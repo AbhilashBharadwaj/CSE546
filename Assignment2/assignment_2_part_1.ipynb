{
 "cells": [
  {
   "cell_type": "markdown",
   "id": "9c0d943c",
   "metadata": {},
   "source": [
    "## <center>CSE 546: Reinforcement Learning</center>\n",
    "### <center>Prof. Alina Vereshchaka</center>\n",
    "<!-- ### <center>Fall 2022</center> -->\n",
    "\n",
    "Welcome to the Assignment 2, Part 1: Introduction to Deep Reinforcement Learning and Neural Networks! The goal of this assignment is to make you comfortable with the application of different Neural Network structures depending on how the Reinforcement Learning environment is set up."
   ]
  },
  {
   "cell_type": "code",
   "execution_count": 3,
   "id": "c0fc19e1",
   "metadata": {},
   "outputs": [
    {
     "name": "stderr",
     "output_type": "stream",
     "text": [
      "c:\\Users\\abhil\\AppData\\Local\\Programs\\Python\\Python310\\lib\\site-packages\\tqdm\\auto.py:22: TqdmWarning: IProgress not found. Please update jupyter and ipywidgets. See https://ipywidgets.readthedocs.io/en/stable/user_install.html\n",
      "  from .autonotebook import tqdm as notebook_tqdm\n"
     ]
    }
   ],
   "source": [
    "# Imports\n",
    "from environment import WumpusWorldEnvironment\n",
    "\n",
    "import torch\n",
    "import torch.nn as nn\n",
    "import torch.nn.functional as F\n",
    "\n",
    "import numpy as np\n"
   ]
  },
  {
   "cell_type": "markdown",
   "id": "87890afd",
   "metadata": {},
   "source": [
    "# Environment"
   ]
  },
  {
   "cell_type": "markdown",
   "id": "b9dc8362",
   "metadata": {},
   "source": [
    "We will be working with an implementation of the Wumpus World environment. The environment comes from the book \"Artificial Intelligence: A Modern Approach\" by Stuart J. Russell and Peter Norvig. \n",
    "\n",
    "### ENVIRONMENT DETAILS:\n",
    "\n",
    "The environment is a 6 x 6 grid world containing a total of 36 grid blocks. \n",
    "\n",
    "#### ENVIRONMENT OBJECTS:\n",
    "The environment consists of the following objects:\n",
    "\n",
    "1. **Agent** - The agent starts in the grid block at the bottom left corner whose co-ordinates are [0, 0]. The goal of our agent is to collect the Gold while avoiding the Wumpus and the pits. \n",
    "\n",
    "2. **Wumpus** - The monster which would eat the agent if they are in the same grid block.\n",
    "\n",
    "3. **Pit** - The agent must avoid falling into the pits. \n",
    "\n",
    "4. **Gold** - The agent must collect the Gold.\n",
    "\n",
    "5. **Breeze** - Breeze surrounds the Pits and warn the agent of a Pit in an adjacent grid block.\n",
    "\n",
    "6. **Stench** - Stench surrounds the Wumpus and warns the agent of the Wumpus in an adjacent grid block.\n",
    "\n",
    "#### ENVIRONMENT OBSERVATIONS:\n",
    "\n",
    "Our implementation of the environment provides you with four different types of observations:\n",
    "\n",
    "1. **Integer** - Integer in the range [0 - 35]. This represents the grid block the agent is in. E.g., if the agent is in the bottom left grid block (starting position) the observation would be 0, if the agent is in the grid block containing the Gold the observation would be 34, if the agent is in the top right grid block the observation would be 35.\n",
    "\n",
    "2. **Vector** - \n",
    "\n",
    "    **2.1.** A vector of length 2 representing the agent co-ordinates. The first entry represents the x co-ordinate and the second entry represets the y co-ordinate. E.g., if the agent is in the bottom left grid block (starting position) the observation would be [0, 0], if the agent is in the grid block containing the Gold the observation would be [4, 5], if the agent is in the top right grid block the observation would be [5, 5].\n",
    "    \n",
    "    **2.2.** A vector of length 36 representing the one-hot encoding of the integer observation (refer type 1 above). E.g., if the agent is in the bottom left grid block (starting position) the observation would be [1, 0, ..., 0, 0], if the agent is in the grid block containing the Gold the observation would be [0, 0, ..., 1, 0], if the agent is in the top right grid block the observation would be [0, 0, ..., 0, 1].\n",
    "\n",
    "\n",
    "3. **Image** - Image render of the environment returned as an NumPy array. The image size is 84 * 84 (same size used in the DQN paper). E.g., if the agent is in the bottom right grid block the observation is:\n",
    "\n",
    "    Observation: (84 * 84)\n",
    "\n",
    "     [[255 255 255 ... 255 255 255]\n",
    "\n",
    "     [255 255 255 ... 255 255 255]\n",
    "\n",
    "     [255 255 255 ... 255 255 255]\n",
    "\n",
    "     ...\n",
    "\n",
    "     [255 255 255 ... 255 255 255]\n",
    "\n",
    "     [255 255 255 ... 255 255 255]\n",
    "\n",
    "     [255 255 255 ... 255 255 255]]\n",
    "\n",
    "    Observation type: <class 'numpy.ndarray'>\n",
    "\n",
    "    Observation Shape: (84, 84)\n",
    "\n",
    "    Visually, it looks like:\n",
    "    <img src=\"./images/environment_render.png\" width=\"500\" height=\"500\">\n",
    "    \n",
    "\n",
    "4. **Float** - Float in the range [0 - $\\infty$] representing the time elapsed in seconds. \n",
    "\n",
    "#### ENVIRONMENT ACTIONS:\n",
    "\n",
    "Our implementation of the environment provides you with three different types of actions:\n",
    "\n",
    "1. **Discrete** - Integer in the range [0 - 3] representing the four actions possible in the environment as follows: 0 - Right 1 - Left 2 - Up 3 - Down.\n",
    "\n",
    "2. **Multi-Discrete** - Array of length four where each element takes binary values 0 or 1. Array elements represent if we take a particular action. Array element with index 0 corresponds to the right action, index 1 corresponds to the left action, index 2 corresponds to the up action, and index 3 corresponds to the down action. E.g., \n",
    "   action = [1, 0, 0, 0] would result in the agent moving right.\n",
    "   action = [1, 0, 1, 0] would result in the agent moving right and up.\n",
    "   action = [0, 1, 0, 1] would result in the agent moving left and down.\n",
    "\n",
    "3. **Continuous** - Float in the range [-1, 1] determining whether the agent will go left, right, up, or down as follows:\n",
    "\n",
    "    if -1 <= action <= -0.5:\n",
    "        Go Right.\n",
    "    elif -0.5 < action <= 0:\n",
    "        Go Left.\n",
    "    elif 0 < action <= 0.5:\n",
    "        Go Up.\n",
    "    elif 0.5 < action <= 1:\n",
    "        Go Down.\n",
    "        \n",
    "### YOUR TASK IS TO USE A NEURAL NETWORK TO WORK WITH ALL FOUR TYPES OF OBSERVATIONS AND ALL THREE TYPES OF  ACTIONS."
   ]
  },
  {
   "cell_type": "markdown",
   "id": "a6deebbb",
   "metadata": {},
   "source": [
    "<img src=\"./images/wumpus_world_environment.jpg\" width=\"600\" height=\"600\">"
   ]
  },
  {
   "cell_type": "markdown",
   "id": "f2f11e24",
   "metadata": {},
   "source": [
    "# START COMPLETING YOUR ASSIGNMENT HERE"
   ]
  },
  {
   "cell_type": "markdown",
   "id": "729a8768",
   "metadata": {},
   "source": [
    "## Observation Type - Integer, Action Type - Discrete\n",
    "\n",
    "The part of the assignment requires you to create a sequential dense neural network with 1 hidden layer having 64 neurons and the output layer having 4 neurons. The input to the neural network is an integer (refer to environment observations type 1). The output of the neural network is an array represeting the Q-values from which you will choose an action (refer to environment actions type 1)."
   ]
  },
  {
   "cell_type": "markdown",
   "id": "c596cb95",
   "metadata": {},
   "source": [
    "The following figure shows the network structure you will have to use:\n",
    "\n",
    "<img src=\"./images/neural_network_structures/neural_network_1_64_4.png\">"
   ]
  },
  {
   "cell_type": "code",
   "execution_count": 4,
   "id": "aabcb4ce",
   "metadata": {},
   "outputs": [],
   "source": [
    "def getAction(index:int):\n",
    "    if index == 0:\n",
    "        return \"RIGHT\"\n",
    "    if index == 1:\n",
    "        return \"LEFT\"   \n",
    "    if index == 2:\n",
    "        return \"UP\"\n",
    "    if index == 3:\n",
    "        return \"DOWN\"               "
   ]
  },
  {
   "cell_type": "code",
   "execution_count": 5,
   "id": "7b1f4da4",
   "metadata": {},
   "outputs": [
    {
     "name": "stdout",
     "output_type": "stream",
     "text": [
      "0\n",
      "tensor([[ 0.5462, -0.0887,  0.6681,  0.1092]], grad_fn=<AddmmBackward0>)\n",
      "Action value is 2\n",
      "Action is UP\n",
      "New observation is (6, None, None, {})\n"
     ]
    }
   ],
   "source": [
    "\"\"\"TO DO: Create a neural network, pass it the observation from the environment\n",
    "and get the predicted Q-values for the four actions. Print the observation and the Q-values.\"\"\"\n",
    "\n",
    "environment = WumpusWorldEnvironment(observation_type='integer', action_type='discrete')\n",
    "observation = environment.reset()\n",
    "\n",
    "print(observation)\n",
    "# BEGIN_YOUR_CODE\n",
    "\n",
    "import torch\n",
    "import torch.nn as nn\n",
    "import torch.nn.functional as F\n",
    "import numpy as np\n",
    "\n",
    "\n",
    "\n",
    "class Net(nn.Module):\n",
    "\n",
    "    def __init__(self):\n",
    "        super(Net, self).__init__()\n",
    "        self.fc1 = nn.Linear(1, 64)  # 5*5 from image dimension\n",
    "        self.fc2 = nn.Linear(64, 4)\n",
    "  \n",
    "    def forward(self, x):\n",
    "        x = torch.flatten(x, 1) # flatten all dimensions except the batch dimension\n",
    "        x = F.relu(self.fc1(x))\n",
    "        x = self.fc2(x)\n",
    "        return x\n",
    "\n",
    "   \n",
    "\n",
    "\n",
    "net = Net()\n",
    "observation_tensor = torch.tensor(observation, dtype=torch.float32)\n",
    "observation_tensor = observation_tensor.view(-1, 1)\n",
    "output = net(observation_tensor)\n",
    "print(output)\n",
    "output_np_array = output.detach().numpy()\n",
    "action_value = np.argmax(output_np_array)\n",
    "action = getAction(action_value)\n",
    "print(\"Action value is\", action_value)\n",
    "print(\"Action is\",action)\n",
    "print (\"New observation is\", environment.step(action_value))\n",
    "\n",
    "# END_YOUR_CODE"
   ]
  },
  {
   "cell_type": "markdown",
   "id": "2bb8286a",
   "metadata": {},
   "source": []
  },
  {
   "cell_type": "markdown",
   "id": "b2b233bb",
   "metadata": {},
   "source": [
    "## Observation Type - Vector (2.1), Action Type - Discrete\n",
    "\n",
    "The part of the assignment requires you to create a sequential dense neural network with 1 hidden layer having 64 neurons and the output layer having 4 neurons. The input to the neural network is a vector of length 2 (refer to environment observations type 2.1). The output of the neural network is an array represeting the Q-values from which you will choose an action (refer to environment actions type 1)."
   ]
  },
  {
   "cell_type": "markdown",
   "id": "0e9c4873",
   "metadata": {},
   "source": [
    "The following figure shows the network structure you will have to use:\n",
    "\n",
    "<img src=\"./images/neural_network_structures/neural_network_2_64_4.png\">"
   ]
  },
  {
   "cell_type": "code",
   "execution_count": 6,
   "id": "10d985b5",
   "metadata": {},
   "outputs": [
    {
     "name": "stdout",
     "output_type": "stream",
     "text": [
      "Current observation is [0 0]\n",
      "tensor([[ 0.2176, -0.1916,  0.0032, -0.3261]], grad_fn=<AddmmBackward0>)\n",
      "Action value is 0\n",
      "Action is RIGHT\n",
      "New observation is (array([1, 0]), None, None, {})\n"
     ]
    }
   ],
   "source": [
    "\"\"\"TO DO: Create a neural network, pass it the observation from the environment\n",
    "and get the predicted Q-values for the four actions. Print the observation and the Q-values.\"\"\"\n",
    "\n",
    "environment = WumpusWorldEnvironment(observation_type='vector', action_type='discrete')\n",
    "\n",
    "observation = environment.reset()\n",
    "print('Current observation is', observation)\n",
    "\n",
    "# BEGIN_YOUR_CODE\n",
    "class Net(nn.Module):\n",
    "\n",
    "    def __init__(self):\n",
    "        super(Net, self).__init__()\n",
    "        self.fc1 = nn.Linear(2, 64)  # 5*5 from image dimension\n",
    "        self.fc2 = nn.Linear(64, 4)\n",
    "        \n",
    "\n",
    "    def forward(self, x):\n",
    "        x = torch.flatten(x, 1) # flatten all dimensions except the batch dimension\n",
    "        x = F.relu(self.fc1(x))\n",
    "        x = self.fc2(x)\n",
    "        return x\n",
    "\n",
    " \n",
    "\n",
    "\n",
    "net = Net()\n",
    "observation_tensor = torch.tensor(observation, dtype=torch.float32)\n",
    "observation_tensor = observation_tensor.view(-1, 2)\n",
    "output = net(observation_tensor)\n",
    "print(output)\n",
    "\n",
    "output_np_array = output.detach().numpy()\n",
    "action_value = np.argmax(output_np_array)\n",
    "action = getAction(action_value)\n",
    "print(\"Action value is\", action_value)\n",
    "print(\"Action is\",action)\n",
    "print (\"New observation is\", environment.step(action_value))\n",
    "# END_YOUR_CODE"
   ]
  },
  {
   "cell_type": "markdown",
   "id": "a8957b9f",
   "metadata": {},
   "source": [
    "## Observation Type - Vector (2.2), Action Type - Discrete\n",
    "\n",
    "The part of the assignment requires you to create a sequential dense neural network with 1 hidden layer having 64 neurons and the output layer having 4 neurons. The input to the neural network is a vector of length 36 (refer to environment observations type 2.2). The output of the neural network is an array represeting the Q-values from which you will choose an action (refer to environment actions type 1).\n",
    "\n",
    "**HINT:** Use the integer observation and convert it to a one-hot encoded vector."
   ]
  },
  {
   "cell_type": "markdown",
   "id": "470cf5f8",
   "metadata": {},
   "source": [
    "The following figure shows the network structure you will have to use:\n",
    "\n",
    "<img src=\"./images/neural_network_structures/neural_network_36_64_4.png\">"
   ]
  },
  {
   "cell_type": "code",
   "execution_count": 7,
   "id": "ae05b09e",
   "metadata": {},
   "outputs": [
    {
     "name": "stdout",
     "output_type": "stream",
     "text": [
      "Current observation is 0\n",
      "tensor([[-0.0287,  0.1351,  0.0962, -0.0751]], grad_fn=<AddmmBackward0>)\n",
      "Action value is 1\n",
      "Action is LEFT\n",
      "New observation is (array([0, 0]), None, None, {})\n"
     ]
    }
   ],
   "source": [
    "\"\"\"TO DO: Create a neural network, pass it the observation from the environment\n",
    "and get the predicted Q-values for the four actions. Print the observation and the Q-values.\"\"\"\n",
    "\n",
    "environment = WumpusWorldEnvironment(\n",
    "    observation_type='vector', action_type='discrete')\n",
    "observation = environment.reset()\n",
    "\n",
    "# BEGIN_YOUR_CODE\n",
    "\n",
    "\n",
    "class Net(nn.Module):\n",
    "\n",
    "    def __init__(self):\n",
    "        super(Net, self).__init__()\n",
    "        self.fc1 = nn.Linear(36, 64)  # 5*5 from image dimension\n",
    "        self.fc2 = nn.Linear(64, 4)\n",
    "\n",
    "    def forward(self, x):\n",
    "        # flatten all dimensions except the batch dimension\n",
    "        x = torch.flatten(x, 1)\n",
    "        x = F.relu(self.fc1(x))\n",
    "        x = self.fc2(x)\n",
    "        return x\n",
    "\n",
    "\n",
    "net = Net()\n",
    "\n",
    "environment_height = 6\n",
    "environment_width = 6\n",
    "coordinates_state_mapping = {}\n",
    "\n",
    "for i in range(environment_height):\n",
    "    for j in range(environment_width):\n",
    "        coordinates_state_mapping[f'{np.asarray([j, i])}'] = i * \\\n",
    "            environment_width + j\n",
    "\n",
    "observation_state = coordinates_state_mapping[f'{observation}']\n",
    "print(\"Current observation is\", observation_state)\n",
    "\n",
    "observation_vector = np.zeros(36)\n",
    "observation_vector[observation_state] = 1\n",
    "observation_tensor = torch.tensor(observation_vector, dtype=torch.float32)\n",
    "observation_tensor = observation_tensor.view(-1, 36)\n",
    "output = (net(observation_tensor))\n",
    "\n",
    "print(output)\n",
    "\n",
    "output_np_array = output.detach().numpy()\n",
    "action_value = np.argmax(output_np_array)\n",
    "action = getAction(action_value)\n",
    "print(\"Action value is\", action_value)\n",
    "print(\"Action is\", action)\n",
    "print(\"New observation is\", environment.step(action_value))\n",
    "\n",
    "\n",
    "# END_YOUR_CODE\n"
   ]
  },
  {
   "cell_type": "markdown",
   "id": "ce19c97b",
   "metadata": {},
   "source": [
    "## Observation Type - Image, Action Type - Discrete\n",
    "\n",
    "The part of the assignment requires you to create a convolutional neural network with one convolutional layer having 128 filters of size 3 x 3, one hidden layer having 64 neurons, and the output layer having 4 neurons. The input to the neural network is an image of size 84 * 84 (refer to environment observations type 3). The output of the neural network is an array represeting the Q-values from which you will choose an action (refer to environment actions type 1)."
   ]
  },
  {
   "cell_type": "markdown",
   "id": "df3d739c",
   "metadata": {},
   "source": [
    "The following figure shows the network structure you will have to use:\n",
    "\n",
    "<img src=\"./images/neural_network_structures/convolutional_neural_network_84x84_128_64_4.png\">"
   ]
  },
  {
   "cell_type": "code",
   "execution_count": 8,
   "id": "2044da09",
   "metadata": {},
   "outputs": [
    {
     "name": "stdout",
     "output_type": "stream",
     "text": [
      "tensor([[-0.0625,  0.2546,  0.1643,  0.1117]], grad_fn=<AddmmBackward0>)\n",
      "Action value is 1\n",
      "Action is LEFT\n",
      "New observation is (array([[255, 255, 255, ..., 255, 255, 255],\n",
      "       [255, 255, 255, ..., 255, 255, 255],\n",
      "       [255, 255, 255, ..., 255, 255, 255],\n",
      "       ...,\n",
      "       [255, 255, 255, ..., 255, 255, 255],\n",
      "       [255, 255, 255, ..., 255, 255, 255],\n",
      "       [255, 255, 255, ..., 255, 255, 255]], dtype=uint8), None, None, {})\n"
     ]
    }
   ],
   "source": [
    "\"\"\"TO DO: Create a neural network, pass it the observation from the environment\n",
    "and get the predicted Q-values for the four actions. Print the observation and the Q-values.\"\"\"\n",
    "\n",
    "environment = WumpusWorldEnvironment(observation_type='image', action_type='discrete')\n",
    "observation = environment.reset()\n",
    "\n",
    "\n",
    "# BEGIN_YOUR_CODE\n",
    "from torchvision import transforms\n",
    "\n",
    "from PIL import Image\n",
    "import numpy as np\n",
    "class Net(nn.Module):\n",
    "\n",
    "    def __init__(self):\n",
    "        super(Net, self).__init__()\n",
    "        # 1 input image channel, 6 output channels, 5x5 square convolution\n",
    "        # kernel\n",
    "        self.conv1 = nn.Conv2d(1, 128, 3)\n",
    "        self.conv1 = nn.Conv2d(1, 128, 3)\n",
    "        self.pool = nn.MaxPool2d(2,2)\n",
    "        self.fc1 = nn.Linear(128 * 41 * 41 , 64)\n",
    "        self.fc2 = nn.Linear(64, 4)\n",
    "        # # self.conv2 = nn.Conv2d(6, 16, 5)\n",
    "        # # an affine operation: y = Wx + b\n",
    "        # self.fc1 = nn.Linear(128 * 84 * 84, 64)  # 5*5 from image dimension\n",
    "        # self.fc2 = nn.Linear(64, 4)\n",
    "\n",
    "    def forward(self, x):\n",
    "        # Max pooling over a (2, 2) window\n",
    "        x = F.max_pool2d(F.relu(self.conv1(x)), (2, 2))\n",
    "        x = torch.flatten(x, 1) \n",
    "        x = F.relu(self.fc1(x))\n",
    "        x = self.fc2(x)\n",
    "        return x\n",
    "\n",
    "\n",
    "\n",
    "\n",
    "net = Net()\n",
    "convert_tensor = transforms.ToTensor()\n",
    "observation_tensor = convert_tensor(observation)\n",
    "observation_tensor = observation_tensor[None, :, :, : ]\n",
    "output = net(observation_tensor)\n",
    "print(output)\n",
    "\n",
    "output_np_array = output.detach().numpy()\n",
    "action_value = np.argmax(output_np_array)\n",
    "action = getAction(action_value)\n",
    "print(\"Action value is\", action_value)\n",
    "print(\"Action is\", action)\n",
    "print(\"New observation is\", environment.step(action_value))\n",
    "\n",
    "\n",
    "# END_YOUR_CODE"
   ]
  },
  {
   "cell_type": "markdown",
   "id": "64be04fd",
   "metadata": {},
   "source": [
    "## Observation Type - Float, Action Type - Discrete\n",
    "\n",
    "The part of the assignment requires you to create a sequential dense neural network with 1 hidden layer having 64 neurons and the output layer having 4 neurons. The input to the neural network is a float (refer to environment observations type 4). The output of the neural network is an array represeting the Q-values from which you will choose an action (refer to environment actions type 1)."
   ]
  },
  {
   "cell_type": "markdown",
   "id": "b7ed49e0",
   "metadata": {},
   "source": [
    "The following figure shows the network structure you will have to use:\n",
    "\n",
    "<img src=\"./images/neural_network_structures/neural_network_1_64_4.png\">"
   ]
  },
  {
   "cell_type": "code",
   "execution_count": 9,
   "id": "ea0e4aa6",
   "metadata": {},
   "outputs": [
    {
     "name": "stdout",
     "output_type": "stream",
     "text": [
      "0.0\n",
      "tensor([[-0.2273, -0.2290, -0.0444, -0.0679]], grad_fn=<AddmmBackward0>)\n",
      "Action value is 2\n",
      "Action is UP\n",
      "New observation is (0.0070226192474365234, None, None, {})\n"
     ]
    }
   ],
   "source": [
    "\"\"\"TO DO: Create a neural network, pass it the observation from the environment\n",
    "and get the predicted Q-values for the four actions. Print the observation and the Q-values.\"\"\"\n",
    "\n",
    "environment = WumpusWorldEnvironment(observation_type='float', action_type='discrete')\n",
    "observation = environment.reset()\n",
    "print(observation)\n",
    "import numpy as np\n",
    "# BEGIN_YOUR_CODE\n",
    "\n",
    "import torch\n",
    "import torch.nn as nn\n",
    "import torch.nn.functional as F\n",
    "import numpy as np\n",
    "\n",
    "\n",
    "\n",
    "class Net(nn.Module):\n",
    "\n",
    "    def __init__(self):\n",
    "        super(Net, self).__init__()\n",
    "        self.fc1 = nn.Linear(1, 64)  # 5*5 from image dimension\n",
    "        self.fc2 = nn.Linear(64, 4)\n",
    "  \n",
    "    def forward(self, x):\n",
    "        x = torch.flatten(x, 1) # flatten all dimensions except the batch dimension\n",
    "        x = F.relu(self.fc1(x))\n",
    "        x = self.fc2(x)\n",
    "        return x\n",
    "\n",
    "   \n",
    "\n",
    "\n",
    "net = Net()\n",
    "observation_tensor = torch.tensor(observation, dtype=torch.float32)\n",
    "observation_tensor = observation_tensor.view(-1, 1)\n",
    "output = net(observation_tensor)\n",
    "print(output)\n",
    "\n",
    "output_np_array = output.detach().numpy()\n",
    "action_value = np.argmax(output_np_array)\n",
    "action = getAction(action_value)\n",
    "print(\"Action value is\", action_value)\n",
    "print(\"Action is\", action)\n",
    "print(\"New observation is\", environment.step(action_value))\n",
    "\n",
    "\n",
    "# # END_YOUR_CODE\n"
   ]
  },
  {
   "cell_type": "markdown",
   "id": "27040465",
   "metadata": {},
   "source": [
    "## Observation Type - Vector (2.2), Action Type - Multi-Discrete\n",
    "\n",
    "The part of the assignment requires you to create a sequential dense neural network with 1 hidden layer having 64 neurons and the output layer having 4 neurons. The input to the neural network is a vector of length 36 (refer to environment observations type 2.2). The output of the neural network is an array representing the probability of choosing the actions. (If the value of the array element is >=0.5 you will perform the action.) (refer to environment actions type 2).\n",
    "\n",
    "**HINT:** Use the integer observation and convert it to a one-hot encoded vector."
   ]
  },
  {
   "cell_type": "markdown",
   "id": "8fe64de9",
   "metadata": {},
   "source": [
    "The following figure shows the network structure you will have to use:\n",
    "\n",
    "<img src=\"./images/neural_network_structures/neural_network_36_64_4_sigmoid.png\">"
   ]
  },
  {
   "cell_type": "code",
   "execution_count": 10,
   "id": "00ea3736",
   "metadata": {},
   "outputs": [
    {
     "name": "stdout",
     "output_type": "stream",
     "text": [
      "[0 0]\n",
      "tensor([[ 0.2406, -0.1378,  0.6598,  0.2669]], grad_fn=<AddmmBackward0>)\n",
      "[[ 0. -0.  1.  0.]]\n",
      "New observation is (array([0, 1]), None, None, {})\n"
     ]
    }
   ],
   "source": [
    "\"\"\"TO DO: Create a neural network, pass it the observation from the environment\n",
    "and get the predicted action probabilities for the four actions. Print the observation and the action probabilities.\"\"\"\n",
    "\n",
    "environment = WumpusWorldEnvironment(observation_type='vector', action_type='multi_discrete')\n",
    "\n",
    "observation = environment.reset()\n",
    "# BEGIN_YOUR_CODE\n",
    "print(observation)\n",
    "class Net(nn.Module):\n",
    "\n",
    "    def __init__(self):\n",
    "        super(Net, self).__init__()\n",
    "        self.fc1 = nn.Linear(36, 64)  # 5*5 from image dimension\n",
    "        self.fc2 = nn.Linear(64, 4)\n",
    "        \n",
    "\n",
    "    def forward(self, x):\n",
    "        x = torch.flatten(x, 1) # flatten all dimensions except the batch dimension\n",
    "        # using sigmoid activation function\n",
    "        x = torch.sigmoid(self.fc1(x))\n",
    "        x = self.fc2(x)\n",
    "        return x\n",
    "\n",
    " \n",
    "\n",
    "\n",
    "net = Net()\n",
    "\n",
    "environment_height = 6\n",
    "environment_width = 6\n",
    "coordinates_state_mapping = {}\n",
    "\n",
    "for i in range(environment_height):\n",
    "    for j in range(environment_width):\n",
    "        coordinates_state_mapping[f'{np.asarray([j, i])}'] = i * environment_width + j\n",
    "\n",
    "observationState= coordinates_state_mapping[f'{observation}']\n",
    "\n",
    "observation_vector = np.zeros(36)\n",
    "observation_vector[observation] = 1\n",
    "observation_tensor = torch.tensor(observation_vector, dtype=torch.float32)\n",
    "observation_tensor = observation_tensor.view(-1, 36)\n",
    "output = net(observation_tensor)\n",
    "\n",
    "print(output)\n",
    "\n",
    "output_np_array = output.detach().numpy()\n",
    "# action_probabilities = [1 if output_np_array[x] > 0.5 else 0 for x in range (len(output_np_array))]\n",
    "action_probabilities = np.around(output_np_array)\n",
    "print(action_probabilities)\n",
    "print(\"New observation is\", environment.step(np.ravel(action_probabilities)))\n",
    "\n",
    "# END_YOUR_CODE\n"
   ]
  },
  {
   "cell_type": "markdown",
   "id": "1bb71362",
   "metadata": {},
   "source": [
    "## Observation Type - Vector (2.2), Action Type - Continuous\n",
    "\n",
    "The part of the assignment requires you to create a sequential dense neural network with 1 hidden layer having 64 neurons and the output layer having 1 neuron. The input to the neural network is a vector of length 36 (refer to environment observations type 2.2). The output of the neural network is an float in the range [-1, 1] determining the action which will be taken. (refer to environment actions type 3).\n",
    "\n",
    "**HINT:** Use the integer observation and convert it to a one-hot encoded vector and use the TanH activation function to get the output in the range [-1, 1]."
   ]
  },
  {
   "cell_type": "markdown",
   "id": "d8796988",
   "metadata": {},
   "source": [
    "The following figure shows the network structure you will have to use:\n",
    "\n",
    "<img src=\"./images/neural_network_structures/neural_network_36_64_1.png\">"
   ]
  },
  {
   "cell_type": "code",
   "execution_count": 11,
   "id": "b98555f1",
   "metadata": {},
   "outputs": [
    {
     "name": "stdout",
     "output_type": "stream",
     "text": [
      "[0 0]\n",
      "Action value is -0.011828424\n",
      "New observation is (array([0, 0]), None, None, {})\n"
     ]
    },
    {
     "name": "stderr",
     "output_type": "stream",
     "text": [
      "c:\\Users\\abhil\\AppData\\Local\\Programs\\Python\\Python310\\lib\\site-packages\\gym\\spaces\\box.py:127: UserWarning: \u001b[33mWARN: Box bound precision lowered by casting to float32\u001b[0m\n",
      "  logger.warn(f\"Box bound precision lowered by casting to {self.dtype}\")\n"
     ]
    }
   ],
   "source": [
    "\"\"\"TO DO: Create a neural network, pass it the observation from the environment\n",
    "and get the predicted action. Print the observation and the predicted action.\"\"\"\n",
    "\n",
    "environment = WumpusWorldEnvironment(observation_type='vector', action_type='continuous')\n",
    "observation = environment.reset()\n",
    "\n",
    "# BEGIN_YOUR_CODE\n",
    "\n",
    "print(observation)\n",
    "class Net(nn.Module):\n",
    "\n",
    "    def __init__(self):\n",
    "        super(Net, self).__init__()\n",
    "        self.fc1 = nn.Linear(36, 64)  # 5*5 from image dimension\n",
    "        self.fc2 = nn.Linear(64, 1)\n",
    "        \n",
    "\n",
    "    def forward(self, x):\n",
    "        x = torch.flatten(x, 1) # flatten all dimensions except the batch dimension\n",
    "        #using tanh activation function\n",
    "        x = torch.tanh(self.fc1(x))\n",
    "        x = self.fc2(x)\n",
    "        return x\n",
    "\n",
    " \n",
    "\n",
    "\n",
    "net = Net()\n",
    "\n",
    "environment_height = 6\n",
    "environment_width = 6\n",
    "coordinates_state_mapping = {}\n",
    "\n",
    "for i in range(environment_height):\n",
    "    for j in range(environment_width):\n",
    "        coordinates_state_mapping[f'{np.asarray([j, i])}'] = i * environment_width + j\n",
    "\n",
    "\n",
    "\n",
    "observation_vector = np.zeros(36)\n",
    "observation_vector[observation] = 1\n",
    "observation_tensor = torch.tensor(observation_vector, dtype=torch.float32)\n",
    "observation_tensor = observation_tensor.view(-1, 36)\n",
    "output = net(observation_tensor)\n",
    "\n",
    "\n",
    "output_np_array = output.detach().numpy()\n",
    "action_value = np.ravel(output_np_array)[0]\n",
    "print(\"Action value is\", action_value)\n",
    "print(\"New observation is\", environment.step(action_value))\n",
    "\n",
    "# END_YOUR_CODE"
   ]
  }
 ],
 "metadata": {
  "kernelspec": {
   "display_name": "Python 3.10.7 64-bit",
   "language": "python",
   "name": "python3"
  },
  "language_info": {
   "codemirror_mode": {
    "name": "ipython",
    "version": 3
   },
   "file_extension": ".py",
   "mimetype": "text/x-python",
   "name": "python",
   "nbconvert_exporter": "python",
   "pygments_lexer": "ipython3",
   "version": "3.10.8 (tags/v3.10.8:aaaf517, Oct 11 2022, 16:50:30) [MSC v.1933 64 bit (AMD64)]"
  },
  "vscode": {
   "interpreter": {
    "hash": "dd345128216770f6f38b67442ad3cdddc5a19fc44e06514e71fac60fafc41200"
   }
  }
 },
 "nbformat": 4,
 "nbformat_minor": 5
}
