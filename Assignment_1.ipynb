{
  "cells": [
    {
      "cell_type": "markdown",
      "metadata": {
        "id": "view-in-github",
        "colab_type": "text"
      },
      "source": [
        "<a href=\"https://colab.research.google.com/github/AbhilashBharadwaj/CSE546/blob/main/Assignment_1.ipynb\" target=\"_parent\"><img src=\"https://colab.research.google.com/assets/colab-badge.svg\" alt=\"Open In Colab\"/></a>"
      ]
    },
    {
      "cell_type": "code",
      "execution_count": 304,
      "metadata": {
        "id": "PDNGETr0lkgC"
      },
      "outputs": [],
      "source": [
        "import numpy as np\n",
        "import time\n",
        "import cv2\n",
        "import gym\n",
        "from gym import spaces\n",
        "from google.colab import widgets\n",
        "import matplotlib.pyplot as plt\n",
        "from matplotlib.offsetbox import OffsetImage, AnnotationBbox"
      ]
    },
    {
      "cell_type": "code",
      "execution_count": 305,
      "metadata": {
        "id": "PhCKvru4mMlM"
      },
      "outputs": [],
      "source": [
        "#Based on Professor Alina Vereshchaka's notebooks\n",
        "class GridEnvironment(gym.Env):\n",
        "    metadata = { 'render.modes': [] }\n",
        "    ROWS = 9\n",
        "    COLS = 9\n",
        "\n",
        "    # Actions\n",
        "    # UP, DOWN, LEFT, RIGHT, UP_LEFT, UP_RIGHT, DOWN_LEFT, DOWN_RIGHT\n",
        "\n",
        "    NO_OF_ACTIONS = 8\n",
        "\n",
        "    def remove_points(self,arr:np.ndarray, points:list):\n",
        "          arr_list = list(arr)\n",
        "          for i in range(len(points)):\n",
        "             for j in range(len(arr)):\n",
        "               if(all(list(arr[j]) == points[i])):\n",
        "                 arr_list.pop(j)\n",
        "          return np.asarray(arr_list)\n",
        "  \n",
        "\n",
        "    def set_artifact_positions(self,environment):\n",
        "        self.agent_pos = np.asarray([0, 0])\n",
        "        self.goal_pos = np.asarray([8, 8])\n",
        "        self.demon_pos = np.asarray([4, 4])\n",
        "        if(environment == 'deterministic' ):\n",
        "          self.toxin_pos = np.asarray([[3,2], [7,6], [2,7]])\n",
        "          self.hp_pos = np.asarray([[1,1], [3,4], [4,7]])\n",
        "        else:\n",
        "          self.toxin_pos = self.remove_points(np.random.randint(0, 8,size=(3,2)),[self.agent_pos, self.goal_pos, self.demon_pos])  # ensure no tilespace collision occurs\n",
        "          self.hp_pos = self.remove_points(np.random.randint(0, 8,size=(3,2)),[self.agent_pos, self.goal_pos, self.demon_pos])\n",
        "       \n",
        "\n",
        "\n",
        "\n",
        "    def __init__(self, environment_type='deterministic'):\n",
        "        self.environment_type = environment_type\n",
        "        self.observation_space = spaces.Discrete(self.ROWS * self.COLS)\n",
        "        self.action_space = spaces.Discrete(self.NO_OF_ACTIONS)\n",
        "        self.max_timesteps = 500\n",
        "        self.timesteps = 0\n",
        "\n",
        "        # Create a map of coordinates and state\n",
        "        self.coordinates_state_mapping = {}\n",
        "        for i in range(self.ROWS):\n",
        "            for j in range(self.COLS):\n",
        "                self.coordinates_state_mapping[f'{np.asarray([j, i])}'] = i * self.COLS + j\n",
        "                \n",
        "    def reset(self):\n",
        "        self.timestep = 0\n",
        "        self.set_artifact_positions(self.environment_type)\n",
        "\n",
        "        # return the agent_pos coordinates\n",
        "        observation = self.coordinates_state_mapping[f'{self.agent_pos}']\n",
        "        return observation\n",
        "\n",
        "    def step(self, action):\n",
        "      \n",
        "        #Actions\n",
        "        if action == 0:\n",
        "          self.agent_pos[0] += 1 # Agent moves right\n",
        "        elif action == 1:\n",
        "          self.agent_pos[0] -= 1 # Agent moves left\n",
        "        elif action == 2:\n",
        "          self.agent_pos[1] += 1 # Agent moves up\n",
        "        elif action == 3:\n",
        "          self.agent_pos[1] -= 1 # Agent moves down\n",
        "        elif action == 4:        # Agent moves down_right\n",
        "          self.agent_pos[0] += 1 \n",
        "          self.agent_pos[1] += 1\n",
        "        elif action == 5:        # Agent moves top_left\n",
        "          self.agent_pos[0] -= 1\n",
        "          self.agent_pos[1] -= 1\n",
        "        elif action == 6:        # Agent moves top_right\n",
        "          self.agent_pos[0] += 1\n",
        "          self.agent_pos[1] -= 1\n",
        "        elif action == 7:        # Agent moves down_left\n",
        "          self.agent_pos[0] -= 1  \n",
        "          self.agent_pos[1] += 1  \n",
        "            \n",
        "           \n",
        "        # Clipping\n",
        "        self.agent_pos = np.clip(self.agent_pos, a_min=[0, 0],\n",
        "                                 a_max=[self.ROWS - 1, self.COLS - 1])\n",
        "      \n",
        "        observation = self.coordinates_state_mapping[f'{np.asarray(self.agent_pos)}']\n",
        "\n",
        "\n",
        "        #Reward assignment\n",
        "        reward = 0\n",
        "        toxin_reward = -3\n",
        "        hp_reward = 3\n",
        "        goal_reward = 100\n",
        "        demon_reward = -100\n",
        "        \n",
        "              \n",
        "\n",
        "        done = False\n",
        "\n",
        "        # Render is called here to ensure tile-agent interaction visualisation is preserved\n",
        "        # (Artifacts once popped out of the array will remove the \"interaction\" for visualisation logic to use)\n",
        "        with output_grid.output_to(0, 0):\n",
        "          output_grid.clear_cell()\n",
        "          self.render()\n",
        "       \n",
        "       # Terminate if goal is attained\n",
        "        if (self.agent_pos == self.goal_pos).all():\n",
        "            reward += goal_reward\n",
        "            done = True\n",
        "\n",
        "       # Terminate if interacts with demon\n",
        "        elif(self.agent_pos == self.demon_pos).all():\n",
        "            reward += demon_reward \n",
        "            done = True   \n",
        "      \n",
        "        # if hp_pos is encountered, collect reward and pop the hp from hp_pos\n",
        "        elif any(((hp_pos == self.agent_pos).all() for hp_pos in self.hp_pos)):      \n",
        "          for i in range(len(self.hp_pos)):\n",
        "              if (self.agent_pos == self.hp_pos[i]).all():\n",
        "                reward += hp_reward\n",
        "                self.hp_pos = self.remove_points(self.hp_pos,[self.hp_pos[i]]) \n",
        "                break \n",
        "                \n",
        "\n",
        "        # if toxin_pos is encountered, collect reward and pop the hp from toxin_pos\n",
        "        elif any(((toxin_pos == self.agent_pos).all() for toxin_pos in self.toxin_pos)):          \n",
        "          for i in range(len(self.toxin_pos)):\n",
        "              if (self.agent_pos == self.toxin_pos[i]).all():\n",
        "                reward += toxin_reward\n",
        "                self.toxin_pos = self.remove_points(self.toxin_pos,[self.toxin_pos[i]])      \n",
        "                break\n",
        "                  \n",
        "\n",
        "        self.timestep += 1\n",
        "\n",
        "        if (self.timestep >= self.max_timesteps):\n",
        "          done = True\n",
        "\n",
        "        info = {}\n",
        "       \n",
        "\n",
        "        return observation, reward, done, info\n",
        "\n",
        "    # Nitin Kulkarni's render method modified for the context\n",
        "    def render(self, mode='human', plot=False):\n",
        "        \"\"\"This method renders the environment.\n",
        "\n",
        "        :param str mode: 'human' renders to the current display or terminal and returns nothing.\n",
        "        :param bool plot: Boolean indicating whether we show a plot or not. If False, the method returns a resized NumPy\n",
        "                     array representation of the environment to be used as the state. If True it plots the environment.\n",
        "\n",
        "        :returns arr preprocessed_image: Grayscale NumPy array representation of the environment.\"\"\"\n",
        "\n",
        "        fig, ax = plt.subplots(figsize=(8, 8))\n",
        "        ax.set_xlim(0, 9)\n",
        "        ax.set_ylim(0, 9)\n",
        "\n",
        "        if(self.environment_type == \"deterministic\"):\n",
        "          ax.set_title('Deteministic Learning Env')\n",
        "        else:\n",
        "          ax.set_title('Stochastic Learning Env') \n",
        "\n",
        "        def plot_image(plot_pos):\n",
        "            \"\"\"This is a helper function to render the environment. It checks which objects are in a particular\n",
        "            position on the grid and renders the appropriate image.\n",
        "\n",
        "            :param arr plot_pos: Co-ordinates of the grid position which needs to be rendered.\"\"\"\n",
        "\n",
        "            # Initially setting every object to not be plotted.\n",
        "            plot_agent, plot_hp, plot_goal, plot_toxin, plot_demon = \\\n",
        "                False, False, False, False, False\n",
        "\n",
        "            # Checking which objects need to be plotted by comparing their positions.\n",
        "            if np.array_equal(self.agent_pos, plot_pos):\n",
        "                plot_agent = True\n",
        "            if any(np.array_equal(self.hp_pos[i], plot_pos) for i in range(len(self.hp_pos))):\n",
        "                plot_hp = True\n",
        "        \n",
        "            if any(np.array_equal(self.toxin_pos[i], plot_pos) for i in range(len(self.toxin_pos))):\n",
        "                plot_toxin = True\n",
        "       \n",
        "            if np.array_equal(plot_pos, self.demon_pos):\n",
        "                plot_demon = True\n",
        "\n",
        "            if np.array_equal(plot_pos, self.goal_pos):\n",
        "                plot_goal = True    \n",
        "\n",
        "            # Plot for Agent.\n",
        "            if plot_agent and \\\n",
        "                    all(not item for item in\n",
        "                        [plot_hp, plot_goal, plot_toxin, plot_demon]):\n",
        "                agent = AnnotationBbox(OffsetImage(plt.imread('./images/agent.png'), zoom=0.3),\n",
        "                                       np.add(plot_pos, [0.5, 0.5]), frameon=False)\n",
        "                ax.add_artist(agent)\n",
        "\n",
        "          \n",
        "            # Plot for Toxin.\n",
        "            elif plot_toxin and \\\n",
        "                    all(not item for item in\n",
        "                        [plot_agent, plot_hp, plot_goal, plot_demon]):\n",
        "                toxin = AnnotationBbox(OffsetImage(plt.imread('./images/toxin.png'), zoom=0.3),\n",
        "                                     np.add(plot_pos, [0.5, 0.5]), frameon=False)\n",
        "                ax.add_artist(toxin)\n",
        "           \n",
        "            # Plot for HP.\n",
        "            elif plot_hp and \\\n",
        "                    all(not item for item in\n",
        "                        [plot_agent, plot_toxin, plot_goal, plot_demon]):\n",
        "                hp = AnnotationBbox(OffsetImage(plt.imread('./images/hp.png'), zoom=0.3),\n",
        "                                     np.add(plot_pos, [0.5, 0.5]), frameon=False)\n",
        "                ax.add_artist(hp)     \n",
        "\n",
        "            # Plot for Demon.\n",
        "            elif plot_demon and \\\n",
        "                    all(not item for item in\n",
        "                        [plot_agent, plot_hp, plot_goal, plot_toxin]):\n",
        "                demon = AnnotationBbox(OffsetImage(plt.imread('./images/demon.png'), zoom=0.3),\n",
        "                                        np.add(plot_pos, [0.5, 0.5]), frameon=False)\n",
        "                ax.add_artist(demon)\n",
        "\n",
        "            # Plot for Goal.\n",
        "            elif plot_goal and \\\n",
        "                    all(not item for item in\n",
        "                        [plot_agent, plot_hp, plot_demon, plot_toxin]):\n",
        "                goal = AnnotationBbox(OffsetImage(plt.imread('./images/goal.png'), zoom=0.3),\n",
        "                                        np.add(plot_pos, [0.5, 0.5]), frameon=False)\n",
        "                ax.add_artist(goal)    \n",
        "\n",
        "            # Plot for Agent and HP.\n",
        "            elif all( [plot_agent, plot_hp]) and \\\n",
        "                    not(all(\n",
        "                        [plot_goal, plot_toxin, plot_demon])):\n",
        "                agent_hp = AnnotationBbox(OffsetImage(plt.imread('./images/agent_hp.png'), zoom=0.3),\n",
        "                                              np.add(plot_pos, [0.5, 0.5]), frameon=False)\n",
        "                ax.add_artist(agent_hp)\n",
        "\n",
        "            # Plot for Agent and Toxin.\n",
        "            elif all(item for item in [plot_agent, plot_toxin]) and \\\n",
        "                    all(not item for item in\n",
        "                        [plot_hp, plot_goal, plot_demon]):\n",
        "                agent_toxin = AnnotationBbox(OffsetImage(plt.imread('./images/agent_toxin.png'), zoom=0.3),\n",
        "                                           np.add(plot_pos, [0.5, 0.5]), frameon=False)\n",
        "                ax.add_artist(agent_toxin)\n",
        "\n",
        "\n",
        "            # Plot for Agent and Demon.\n",
        "            elif all(item for item in [plot_agent, plot_demon]) and \\\n",
        "                    all(not item for item in\n",
        "                        [plot_goal, plot_toxin, plot_hp]):\n",
        "                agent_demon = AnnotationBbox(OffsetImage(plt.imread('./images/agent_demon.png'),\n",
        "                                                          zoom=0.3), np.add(plot_pos, [0.5, 0.5]), frameon=False)\n",
        "                ax.add_artist(agent_demon)\n",
        "\n",
        "            # Plot for Agent and Goal.\n",
        "            elif all(item for item in [plot_agent, plot_goal]) and \\\n",
        "                    all(not item for item in\n",
        "                        [plot_demon, plot_toxin, plot_hp]):\n",
        "                agent_goal = AnnotationBbox(OffsetImage(plt.imread('./images/agent_goal.png'),\n",
        "                                                          zoom=0.3), np.add(plot_pos, [0.5, 0.5]), frameon=False)\n",
        "                ax.add_artist(agent_goal)    \n",
        "\n",
        "         \n",
        "        # Create a map of state and coordinates \n",
        "        state_coordinates_mapping = {}\n",
        "        for j in range(self.ROWS * self.COLS):\n",
        "            state_coordinates_mapping[j] = np.asarray(\n",
        "                [j % self.COLS, int(np.floor(j / self.COLS))])\n",
        "\n",
        "        # Rendering the images for all states.\n",
        "        for position in state_coordinates_mapping:\n",
        "            plot_image(state_coordinates_mapping[position])\n",
        "\n",
        "        plt.xticks([0, 1, 2, 3, 4, 5, 6, 7, 8])\n",
        "        plt.yticks([0, 1, 2, 3, 4, 5, 6, 7, 8])\n",
        "        plt.grid()  # Setting the plot to be of the type 'grid'.\n",
        "\n",
        "        if plot:  # Displaying the plot.\n",
        "            plt.show()\n",
        "        else:  # Returning the preprocessed image representation of the environment.\n",
        "            fig.canvas.draw()\n",
        "            img = np.array(fig.canvas.renderer.buffer_rgba())[:, :, :3]\n",
        "            width = 84\n",
        "            height = 84\n",
        "            dim = (width, height)\n",
        "            # noinspection PyUnresolvedReferences\n",
        "            preprocessed_image = cv2.resize(img, dim, interpolation=cv2.INTER_AREA)\n",
        "            plt.show()\n",
        "            return preprocessed_image"
      ]
    },
    {
      "cell_type": "code",
      "execution_count": 306,
      "metadata": {
        "id": "aFHQ9rFE2haA"
      },
      "outputs": [],
      "source": [
        "class RandomAgent:\n",
        "  def __init__(self, env):\n",
        "    self.env = env\n",
        "    self.observation_space = env.observation_space\n",
        "    self.action_space = env.action_space\n",
        "\n",
        "  def step(self, observation):\n",
        "    return np.random.choice(self.action_space.n)"
      ]
    },
    {
      "cell_type": "code",
      "execution_count": 307,
      "metadata": {
        "colab": {
          "base_uri": "https://localhost:8080/",
          "height": 503
        },
        "id": "i8u63vZo2kQo",
        "outputId": "ca9a4b57-ad3e-4dd0-850a-18534f224c18"
      },
      "outputs": [
        {
          "output_type": "display_data",
          "data": {
            "text/plain": [
              "<IPython.core.display.HTML object>"
            ],
            "text/html": [
              "<style>\n",
              "       table#id170, #id170 > tbody > tr > th, #id170 > tbody > tr > td {\n",
              "         border: 1px solid lightgray;\n",
              "         border-collapse:collapse;\n",
              "         \n",
              "        }</style>"
            ]
          },
          "metadata": {}
        },
        {
          "output_type": "display_data",
          "data": {
            "text/plain": [
              "<IPython.core.display.HTML object>"
            ],
            "text/html": [
              "<table id=id170><tr><td id=id170-0-0></td></tr></table>"
            ]
          },
          "metadata": {}
        },
        {
          "output_type": "display_data",
          "data": {
            "text/plain": [
              "<IPython.core.display.Javascript object>"
            ],
            "application/javascript": [
              "window[\"6cd6c64c-349f-11ed-a612-0242ac1c0002\"] = google.colab.output.getActiveOutputArea();\n",
              "//# sourceURL=js_d8c4505f2c"
            ]
          },
          "metadata": {}
        },
        {
          "output_type": "display_data",
          "data": {
            "text/plain": [
              "<IPython.core.display.Javascript object>"
            ],
            "application/javascript": [
              "window[\"6cd78b0e-349f-11ed-a612-0242ac1c0002\"] = document.querySelector(\"#id170-0-0\");\n",
              "//# sourceURL=js_fbc3622bef"
            ]
          },
          "metadata": {}
        },
        {
          "output_type": "display_data",
          "data": {
            "text/plain": [
              "<IPython.core.display.Javascript object>"
            ],
            "application/javascript": [
              "window[\"6cd7f68e-349f-11ed-a612-0242ac1c0002\"] = google.colab.output.setActiveOutputArea(window[\"6cd78b0e-349f-11ed-a612-0242ac1c0002\"]);\n",
              "//# sourceURL=js_86ac6b5276"
            ]
          },
          "metadata": {}
        },
        {
          "output_type": "display_data",
          "data": {
            "text/plain": [
              "<IPython.core.display.Javascript object>"
            ],
            "application/javascript": [
              "window[\"6d05feee-349f-11ed-a612-0242ac1c0002\"] = google.colab.output.setActiveOutputArea(window[\"6cd6c64c-349f-11ed-a612-0242ac1c0002\"]);\n",
              "//# sourceURL=js_8ac6d0c6b0"
            ]
          },
          "metadata": {}
        },
        {
          "output_type": "display_data",
          "data": {
            "text/plain": [
              "<IPython.core.display.Javascript object>"
            ],
            "application/javascript": [
              "window[\"6d09f120-349f-11ed-a612-0242ac1c0002\"] = google.colab.output.getActiveOutputArea();\n",
              "//# sourceURL=js_13213452ad"
            ]
          },
          "metadata": {}
        },
        {
          "output_type": "display_data",
          "data": {
            "text/plain": [
              "<IPython.core.display.Javascript object>"
            ],
            "application/javascript": [
              "window[\"6d0a8cac-349f-11ed-a612-0242ac1c0002\"] = document.querySelector(\"#id170-0-0\");\n",
              "//# sourceURL=js_e4458767f5"
            ]
          },
          "metadata": {}
        },
        {
          "output_type": "display_data",
          "data": {
            "text/plain": [
              "<IPython.core.display.Javascript object>"
            ],
            "application/javascript": [
              "window[\"6d0afe4e-349f-11ed-a612-0242ac1c0002\"] = google.colab.output.setActiveOutputArea(window[\"6d0a8cac-349f-11ed-a612-0242ac1c0002\"]);\n",
              "//# sourceURL=js_7d29321fb1"
            ]
          },
          "metadata": {}
        },
        {
          "output_type": "display_data",
          "data": {
            "text/plain": [
              "<IPython.core.display.Javascript object>"
            ],
            "application/javascript": [
              "window[\"6d3faa86-349f-11ed-a612-0242ac1c0002\"] = google.colab.output.setActiveOutputArea(window[\"6d09f120-349f-11ed-a612-0242ac1c0002\"]);\n",
              "//# sourceURL=js_565cf13bb6"
            ]
          },
          "metadata": {}
        },
        {
          "output_type": "display_data",
          "data": {
            "text/plain": [
              "<IPython.core.display.Javascript object>"
            ],
            "application/javascript": [
              "window[\"6d7f6130-349f-11ed-a612-0242ac1c0002\"] = google.colab.output.getActiveOutputArea();\n",
              "//# sourceURL=js_7f6ceb51ac"
            ]
          },
          "metadata": {}
        },
        {
          "output_type": "display_data",
          "data": {
            "text/plain": [
              "<IPython.core.display.Javascript object>"
            ],
            "application/javascript": [
              "window[\"6d801e18-349f-11ed-a612-0242ac1c0002\"] = document.querySelector(\"#id170-0-0\");\n",
              "//# sourceURL=js_ba613c0b21"
            ]
          },
          "metadata": {}
        },
        {
          "output_type": "display_data",
          "data": {
            "text/plain": [
              "<IPython.core.display.Javascript object>"
            ],
            "application/javascript": [
              "window[\"6d80ad74-349f-11ed-a612-0242ac1c0002\"] = google.colab.output.setActiveOutputArea(window[\"6d801e18-349f-11ed-a612-0242ac1c0002\"]);\n",
              "//# sourceURL=js_859c1c49cf"
            ]
          },
          "metadata": {}
        },
        {
          "output_type": "display_data",
          "data": {
            "text/plain": [
              "<IPython.core.display.Javascript object>"
            ],
            "application/javascript": [
              "window[\"6db2a2fc-349f-11ed-a612-0242ac1c0002\"] = google.colab.output.setActiveOutputArea(window[\"6d7f6130-349f-11ed-a612-0242ac1c0002\"]);\n",
              "//# sourceURL=js_e1cf435a0b"
            ]
          },
          "metadata": {}
        },
        {
          "output_type": "display_data",
          "data": {
            "text/plain": [
              "<IPython.core.display.Javascript object>"
            ],
            "application/javascript": [
              "window[\"6df3d6e6-349f-11ed-a612-0242ac1c0002\"] = google.colab.output.getActiveOutputArea();\n",
              "//# sourceURL=js_790fb345f9"
            ]
          },
          "metadata": {}
        },
        {
          "output_type": "display_data",
          "data": {
            "text/plain": [
              "<IPython.core.display.Javascript object>"
            ],
            "application/javascript": [
              "window[\"6df434ec-349f-11ed-a612-0242ac1c0002\"] = document.querySelector(\"#id170-0-0\");\n",
              "//# sourceURL=js_ca09a5a83e"
            ]
          },
          "metadata": {}
        },
        {
          "output_type": "display_data",
          "data": {
            "text/plain": [
              "<IPython.core.display.Javascript object>"
            ],
            "application/javascript": [
              "window[\"6df4c5c4-349f-11ed-a612-0242ac1c0002\"] = google.colab.output.setActiveOutputArea(window[\"6df434ec-349f-11ed-a612-0242ac1c0002\"]);\n",
              "//# sourceURL=js_4549e83ea6"
            ]
          },
          "metadata": {}
        },
        {
          "output_type": "display_data",
          "data": {
            "text/plain": [
              "<IPython.core.display.Javascript object>"
            ],
            "application/javascript": [
              "window[\"6e23d206-349f-11ed-a612-0242ac1c0002\"] = google.colab.output.setActiveOutputArea(window[\"6df3d6e6-349f-11ed-a612-0242ac1c0002\"]);\n",
              "//# sourceURL=js_29a80a37a4"
            ]
          },
          "metadata": {}
        },
        {
          "output_type": "display_data",
          "data": {
            "text/plain": [
              "<IPython.core.display.Javascript object>"
            ],
            "application/javascript": [
              "window[\"6e63dea0-349f-11ed-a612-0242ac1c0002\"] = google.colab.output.getActiveOutputArea();\n",
              "//# sourceURL=js_ee730ad112"
            ]
          },
          "metadata": {}
        },
        {
          "output_type": "display_data",
          "data": {
            "text/plain": [
              "<IPython.core.display.Javascript object>"
            ],
            "application/javascript": [
              "window[\"6e64619a-349f-11ed-a612-0242ac1c0002\"] = document.querySelector(\"#id170-0-0\");\n",
              "//# sourceURL=js_9c41c8474a"
            ]
          },
          "metadata": {}
        },
        {
          "output_type": "display_data",
          "data": {
            "text/plain": [
              "<IPython.core.display.Javascript object>"
            ],
            "application/javascript": [
              "window[\"6e64d27e-349f-11ed-a612-0242ac1c0002\"] = google.colab.output.setActiveOutputArea(window[\"6e64619a-349f-11ed-a612-0242ac1c0002\"]);\n",
              "//# sourceURL=js_1cc43b8979"
            ]
          },
          "metadata": {}
        },
        {
          "output_type": "display_data",
          "data": {
            "text/plain": [
              "<IPython.core.display.Javascript object>"
            ],
            "application/javascript": [
              "window[\"6e953b8a-349f-11ed-a612-0242ac1c0002\"] = google.colab.output.setActiveOutputArea(window[\"6e63dea0-349f-11ed-a612-0242ac1c0002\"]);\n",
              "//# sourceURL=js_798fbc1e06"
            ]
          },
          "metadata": {}
        },
        {
          "output_type": "display_data",
          "data": {
            "text/plain": [
              "<IPython.core.display.Javascript object>"
            ],
            "application/javascript": [
              "window[\"6ed5ba16-349f-11ed-a612-0242ac1c0002\"] = google.colab.output.getActiveOutputArea();\n",
              "//# sourceURL=js_87e7952404"
            ]
          },
          "metadata": {}
        },
        {
          "output_type": "display_data",
          "data": {
            "text/plain": [
              "<IPython.core.display.Javascript object>"
            ],
            "application/javascript": [
              "window[\"6ed6264a-349f-11ed-a612-0242ac1c0002\"] = document.querySelector(\"#id170-0-0\");\n",
              "//# sourceURL=js_51f6599ba9"
            ]
          },
          "metadata": {}
        },
        {
          "output_type": "display_data",
          "data": {
            "text/plain": [
              "<IPython.core.display.Javascript object>"
            ],
            "application/javascript": [
              "window[\"6ed69a58-349f-11ed-a612-0242ac1c0002\"] = google.colab.output.setActiveOutputArea(window[\"6ed6264a-349f-11ed-a612-0242ac1c0002\"]);\n",
              "//# sourceURL=js_ac632de1aa"
            ]
          },
          "metadata": {}
        },
        {
          "output_type": "display_data",
          "data": {
            "text/plain": [
              "<IPython.core.display.Javascript object>"
            ],
            "application/javascript": [
              "window[\"6f098490-349f-11ed-a612-0242ac1c0002\"] = google.colab.output.setActiveOutputArea(window[\"6ed5ba16-349f-11ed-a612-0242ac1c0002\"]);\n",
              "//# sourceURL=js_8946cbf548"
            ]
          },
          "metadata": {}
        },
        {
          "output_type": "display_data",
          "data": {
            "text/plain": [
              "<IPython.core.display.Javascript object>"
            ],
            "application/javascript": [
              "window[\"6f49e27e-349f-11ed-a612-0242ac1c0002\"] = google.colab.output.getActiveOutputArea();\n",
              "//# sourceURL=js_32cfb0b10e"
            ]
          },
          "metadata": {}
        },
        {
          "output_type": "display_data",
          "data": {
            "text/plain": [
              "<IPython.core.display.Javascript object>"
            ],
            "application/javascript": [
              "window[\"6f4a40f2-349f-11ed-a612-0242ac1c0002\"] = document.querySelector(\"#id170-0-0\");\n",
              "//# sourceURL=js_31632d995b"
            ]
          },
          "metadata": {}
        },
        {
          "output_type": "display_data",
          "data": {
            "text/plain": [
              "<IPython.core.display.Javascript object>"
            ],
            "application/javascript": [
              "window[\"6f4ab794-349f-11ed-a612-0242ac1c0002\"] = google.colab.output.setActiveOutputArea(window[\"6f4a40f2-349f-11ed-a612-0242ac1c0002\"]);\n",
              "//# sourceURL=js_4c04fde935"
            ]
          },
          "metadata": {}
        },
        {
          "output_type": "display_data",
          "data": {
            "text/plain": [
              "<IPython.core.display.Javascript object>"
            ],
            "application/javascript": [
              "window[\"6f7dec5e-349f-11ed-a612-0242ac1c0002\"] = google.colab.output.setActiveOutputArea(window[\"6f49e27e-349f-11ed-a612-0242ac1c0002\"]);\n",
              "//# sourceURL=js_4a5072ce2e"
            ]
          },
          "metadata": {}
        },
        {
          "output_type": "display_data",
          "data": {
            "text/plain": [
              "<IPython.core.display.Javascript object>"
            ],
            "application/javascript": [
              "window[\"6fbf7bce-349f-11ed-a612-0242ac1c0002\"] = google.colab.output.getActiveOutputArea();\n",
              "//# sourceURL=js_cdac26fc86"
            ]
          },
          "metadata": {}
        },
        {
          "output_type": "display_data",
          "data": {
            "text/plain": [
              "<IPython.core.display.Javascript object>"
            ],
            "application/javascript": [
              "window[\"6fc02c7c-349f-11ed-a612-0242ac1c0002\"] = document.querySelector(\"#id170-0-0\");\n",
              "//# sourceURL=js_b8f28b22d2"
            ]
          },
          "metadata": {}
        },
        {
          "output_type": "display_data",
          "data": {
            "text/plain": [
              "<IPython.core.display.Javascript object>"
            ],
            "application/javascript": [
              "window[\"6fc09de2-349f-11ed-a612-0242ac1c0002\"] = google.colab.output.setActiveOutputArea(window[\"6fc02c7c-349f-11ed-a612-0242ac1c0002\"]);\n",
              "//# sourceURL=js_7da8824098"
            ]
          },
          "metadata": {}
        },
        {
          "output_type": "display_data",
          "data": {
            "text/plain": [
              "<IPython.core.display.Javascript object>"
            ],
            "application/javascript": [
              "window[\"6ff0ef6a-349f-11ed-a612-0242ac1c0002\"] = google.colab.output.setActiveOutputArea(window[\"6fbf7bce-349f-11ed-a612-0242ac1c0002\"]);\n",
              "//# sourceURL=js_9cc51173a0"
            ]
          },
          "metadata": {}
        },
        {
          "output_type": "display_data",
          "data": {
            "text/plain": [
              "<IPython.core.display.Javascript object>"
            ],
            "application/javascript": [
              "window[\"7030ceb4-349f-11ed-a612-0242ac1c0002\"] = google.colab.output.getActiveOutputArea();\n",
              "//# sourceURL=js_1476b3af12"
            ]
          },
          "metadata": {}
        },
        {
          "output_type": "display_data",
          "data": {
            "text/plain": [
              "<IPython.core.display.Javascript object>"
            ],
            "application/javascript": [
              "window[\"70313ae8-349f-11ed-a612-0242ac1c0002\"] = document.querySelector(\"#id170-0-0\");\n",
              "//# sourceURL=js_bdb21ee16b"
            ]
          },
          "metadata": {}
        },
        {
          "output_type": "display_data",
          "data": {
            "text/plain": [
              "<IPython.core.display.Javascript object>"
            ],
            "application/javascript": [
              "window[\"7031b3ce-349f-11ed-a612-0242ac1c0002\"] = google.colab.output.setActiveOutputArea(window[\"70313ae8-349f-11ed-a612-0242ac1c0002\"]);\n",
              "//# sourceURL=js_15f4dd96b2"
            ]
          },
          "metadata": {}
        },
        {
          "output_type": "display_data",
          "data": {
            "text/plain": [
              "<IPython.core.display.Javascript object>"
            ],
            "application/javascript": [
              "window[\"705fac52-349f-11ed-a612-0242ac1c0002\"] = google.colab.output.setActiveOutputArea(window[\"7030ceb4-349f-11ed-a612-0242ac1c0002\"]);\n",
              "//# sourceURL=js_8a81ade95e"
            ]
          },
          "metadata": {}
        },
        {
          "output_type": "display_data",
          "data": {
            "text/plain": [
              "<IPython.core.display.Javascript object>"
            ],
            "application/javascript": [
              "window[\"709f6220-349f-11ed-a612-0242ac1c0002\"] = google.colab.output.getActiveOutputArea();\n",
              "//# sourceURL=js_68df408757"
            ]
          },
          "metadata": {}
        },
        {
          "output_type": "display_data",
          "data": {
            "text/plain": [
              "<IPython.core.display.Javascript object>"
            ],
            "application/javascript": [
              "window[\"70a02ac0-349f-11ed-a612-0242ac1c0002\"] = document.querySelector(\"#id170-0-0\");\n",
              "//# sourceURL=js_63265554ca"
            ]
          },
          "metadata": {}
        },
        {
          "output_type": "display_data",
          "data": {
            "text/plain": [
              "<IPython.core.display.Javascript object>"
            ],
            "application/javascript": [
              "window[\"70a08722-349f-11ed-a612-0242ac1c0002\"] = google.colab.output.setActiveOutputArea(window[\"70a02ac0-349f-11ed-a612-0242ac1c0002\"]);\n",
              "//# sourceURL=js_a9db27cdae"
            ]
          },
          "metadata": {}
        },
        {
          "output_type": "display_data",
          "data": {
            "text/plain": [
              "<IPython.core.display.Javascript object>"
            ],
            "application/javascript": [
              "window[\"70cebe30-349f-11ed-a612-0242ac1c0002\"] = google.colab.output.setActiveOutputArea(window[\"709f6220-349f-11ed-a612-0242ac1c0002\"]);\n",
              "//# sourceURL=js_e0e06b44ff"
            ]
          },
          "metadata": {}
        },
        {
          "output_type": "display_data",
          "data": {
            "text/plain": [
              "<IPython.core.display.Javascript object>"
            ],
            "application/javascript": [
              "window[\"710e46b8-349f-11ed-a612-0242ac1c0002\"] = google.colab.output.getActiveOutputArea();\n",
              "//# sourceURL=js_3f7b51918e"
            ]
          },
          "metadata": {}
        },
        {
          "output_type": "display_data",
          "data": {
            "text/plain": [
              "<IPython.core.display.Javascript object>"
            ],
            "application/javascript": [
              "window[\"710ea6b2-349f-11ed-a612-0242ac1c0002\"] = document.querySelector(\"#id170-0-0\");\n",
              "//# sourceURL=js_788488ac2c"
            ]
          },
          "metadata": {}
        },
        {
          "output_type": "display_data",
          "data": {
            "text/plain": [
              "<IPython.core.display.Javascript object>"
            ],
            "application/javascript": [
              "window[\"710f0300-349f-11ed-a612-0242ac1c0002\"] = google.colab.output.setActiveOutputArea(window[\"710ea6b2-349f-11ed-a612-0242ac1c0002\"]);\n",
              "//# sourceURL=js_769b2b20e9"
            ]
          },
          "metadata": {}
        },
        {
          "output_type": "display_data",
          "data": {
            "text/plain": [
              "<IPython.core.display.Javascript object>"
            ],
            "application/javascript": [
              "window[\"71404f3c-349f-11ed-a612-0242ac1c0002\"] = google.colab.output.setActiveOutputArea(window[\"710e46b8-349f-11ed-a612-0242ac1c0002\"]);\n",
              "//# sourceURL=js_f0bf6a459f"
            ]
          },
          "metadata": {}
        },
        {
          "output_type": "display_data",
          "data": {
            "text/plain": [
              "<IPython.core.display.Javascript object>"
            ],
            "application/javascript": [
              "window[\"71813844-349f-11ed-a612-0242ac1c0002\"] = google.colab.output.getActiveOutputArea();\n",
              "//# sourceURL=js_b0f57f77f8"
            ]
          },
          "metadata": {}
        },
        {
          "output_type": "display_data",
          "data": {
            "text/plain": [
              "<IPython.core.display.Javascript object>"
            ],
            "application/javascript": [
              "window[\"7181980c-349f-11ed-a612-0242ac1c0002\"] = document.querySelector(\"#id170-0-0\");\n",
              "//# sourceURL=js_85441cf421"
            ]
          },
          "metadata": {}
        },
        {
          "output_type": "display_data",
          "data": {
            "text/plain": [
              "<IPython.core.display.Javascript object>"
            ],
            "application/javascript": [
              "window[\"7181f84c-349f-11ed-a612-0242ac1c0002\"] = google.colab.output.setActiveOutputArea(window[\"7181980c-349f-11ed-a612-0242ac1c0002\"]);\n",
              "//# sourceURL=js_1c58d2cc87"
            ]
          },
          "metadata": {}
        },
        {
          "output_type": "display_data",
          "data": {
            "text/plain": [
              "<IPython.core.display.Javascript object>"
            ],
            "application/javascript": [
              "window[\"71cd8bae-349f-11ed-a612-0242ac1c0002\"] = google.colab.output.setActiveOutputArea(window[\"71813844-349f-11ed-a612-0242ac1c0002\"]);\n",
              "//# sourceURL=js_18a61c4126"
            ]
          },
          "metadata": {}
        },
        {
          "output_type": "display_data",
          "data": {
            "text/plain": [
              "<IPython.core.display.Javascript object>"
            ],
            "application/javascript": [
              "window[\"720d8b50-349f-11ed-a612-0242ac1c0002\"] = google.colab.output.getActiveOutputArea();\n",
              "//# sourceURL=js_ef96631947"
            ]
          },
          "metadata": {}
        },
        {
          "output_type": "display_data",
          "data": {
            "text/plain": [
              "<IPython.core.display.Javascript object>"
            ],
            "application/javascript": [
              "window[\"720de456-349f-11ed-a612-0242ac1c0002\"] = document.querySelector(\"#id170-0-0\");\n",
              "//# sourceURL=js_4021e61a8c"
            ]
          },
          "metadata": {}
        },
        {
          "output_type": "display_data",
          "data": {
            "text/plain": [
              "<IPython.core.display.Javascript object>"
            ],
            "application/javascript": [
              "window[\"720e5710-349f-11ed-a612-0242ac1c0002\"] = google.colab.output.setActiveOutputArea(window[\"720de456-349f-11ed-a612-0242ac1c0002\"]);\n",
              "//# sourceURL=js_d00210248d"
            ]
          },
          "metadata": {}
        },
        {
          "output_type": "display_data",
          "data": {
            "text/plain": [
              "<IPython.core.display.Javascript object>"
            ],
            "application/javascript": [
              "window[\"723ba616-349f-11ed-a612-0242ac1c0002\"] = google.colab.output.setActiveOutputArea(window[\"720d8b50-349f-11ed-a612-0242ac1c0002\"]);\n",
              "//# sourceURL=js_65260b3a17"
            ]
          },
          "metadata": {}
        },
        {
          "output_type": "display_data",
          "data": {
            "text/plain": [
              "<IPython.core.display.Javascript object>"
            ],
            "application/javascript": [
              "window[\"727dd432-349f-11ed-a612-0242ac1c0002\"] = google.colab.output.getActiveOutputArea();\n",
              "//# sourceURL=js_3b7014cf7c"
            ]
          },
          "metadata": {}
        },
        {
          "output_type": "display_data",
          "data": {
            "text/plain": [
              "<IPython.core.display.Javascript object>"
            ],
            "application/javascript": [
              "window[\"727e36ac-349f-11ed-a612-0242ac1c0002\"] = document.querySelector(\"#id170-0-0\");\n",
              "//# sourceURL=js_c56ba8fd85"
            ]
          },
          "metadata": {}
        },
        {
          "output_type": "display_data",
          "data": {
            "text/plain": [
              "<IPython.core.display.Javascript object>"
            ],
            "application/javascript": [
              "window[\"727e8d3c-349f-11ed-a612-0242ac1c0002\"] = google.colab.output.setActiveOutputArea(window[\"727e36ac-349f-11ed-a612-0242ac1c0002\"]);\n",
              "//# sourceURL=js_21381ddaed"
            ]
          },
          "metadata": {}
        },
        {
          "output_type": "display_data",
          "data": {
            "text/plain": [
              "<IPython.core.display.Javascript object>"
            ],
            "application/javascript": [
              "window[\"72ab8882-349f-11ed-a612-0242ac1c0002\"] = google.colab.output.setActiveOutputArea(window[\"727dd432-349f-11ed-a612-0242ac1c0002\"]);\n",
              "//# sourceURL=js_822556d8bf"
            ]
          },
          "metadata": {}
        },
        {
          "output_type": "display_data",
          "data": {
            "text/plain": [
              "<IPython.core.display.Javascript object>"
            ],
            "application/javascript": [
              "window[\"72eb1146-349f-11ed-a612-0242ac1c0002\"] = google.colab.output.getActiveOutputArea();\n",
              "//# sourceURL=js_667f6d2052"
            ]
          },
          "metadata": {}
        },
        {
          "output_type": "display_data",
          "data": {
            "text/plain": [
              "<IPython.core.display.Javascript object>"
            ],
            "application/javascript": [
              "window[\"72eb6f60-349f-11ed-a612-0242ac1c0002\"] = document.querySelector(\"#id170-0-0\");\n",
              "//# sourceURL=js_bc7908497a"
            ]
          },
          "metadata": {}
        },
        {
          "output_type": "display_data",
          "data": {
            "text/plain": [
              "<IPython.core.display.Javascript object>"
            ],
            "application/javascript": [
              "window[\"72ebdfae-349f-11ed-a612-0242ac1c0002\"] = google.colab.output.setActiveOutputArea(window[\"72eb6f60-349f-11ed-a612-0242ac1c0002\"]);\n",
              "//# sourceURL=js_d8061fc2d8"
            ]
          },
          "metadata": {}
        },
        {
          "output_type": "display_data",
          "data": {
            "text/plain": [
              "<IPython.core.display.Javascript object>"
            ],
            "application/javascript": [
              "window[\"731b212e-349f-11ed-a612-0242ac1c0002\"] = google.colab.output.setActiveOutputArea(window[\"72eb1146-349f-11ed-a612-0242ac1c0002\"]);\n",
              "//# sourceURL=js_3a090f9522"
            ]
          },
          "metadata": {}
        },
        {
          "output_type": "display_data",
          "data": {
            "text/plain": [
              "<IPython.core.display.Javascript object>"
            ],
            "application/javascript": [
              "window[\"735b015e-349f-11ed-a612-0242ac1c0002\"] = google.colab.output.getActiveOutputArea();\n",
              "//# sourceURL=js_7cc5f5ab2f"
            ]
          },
          "metadata": {}
        },
        {
          "output_type": "display_data",
          "data": {
            "text/plain": [
              "<IPython.core.display.Javascript object>"
            ],
            "application/javascript": [
              "window[\"735bf92e-349f-11ed-a612-0242ac1c0002\"] = document.querySelector(\"#id170-0-0\");\n",
              "//# sourceURL=js_1a6237c51b"
            ]
          },
          "metadata": {}
        },
        {
          "output_type": "display_data",
          "data": {
            "text/plain": [
              "<IPython.core.display.Javascript object>"
            ],
            "application/javascript": [
              "window[\"735c6f80-349f-11ed-a612-0242ac1c0002\"] = google.colab.output.setActiveOutputArea(window[\"735bf92e-349f-11ed-a612-0242ac1c0002\"]);\n",
              "//# sourceURL=js_d35fec2210"
            ]
          },
          "metadata": {}
        },
        {
          "output_type": "display_data",
          "data": {
            "text/plain": [
              "<IPython.core.display.Javascript object>"
            ],
            "application/javascript": [
              "window[\"738f8604-349f-11ed-a612-0242ac1c0002\"] = google.colab.output.setActiveOutputArea(window[\"735b015e-349f-11ed-a612-0242ac1c0002\"]);\n",
              "//# sourceURL=js_de9aec97c5"
            ]
          },
          "metadata": {}
        },
        {
          "output_type": "display_data",
          "data": {
            "text/plain": [
              "<IPython.core.display.Javascript object>"
            ],
            "application/javascript": [
              "window[\"73d0498c-349f-11ed-a612-0242ac1c0002\"] = google.colab.output.getActiveOutputArea();\n",
              "//# sourceURL=js_3be02ae54b"
            ]
          },
          "metadata": {}
        },
        {
          "output_type": "display_data",
          "data": {
            "text/plain": [
              "<IPython.core.display.Javascript object>"
            ],
            "application/javascript": [
              "window[\"73d0be94-349f-11ed-a612-0242ac1c0002\"] = document.querySelector(\"#id170-0-0\");\n",
              "//# sourceURL=js_a8af6b3044"
            ]
          },
          "metadata": {}
        },
        {
          "output_type": "display_data",
          "data": {
            "text/plain": [
              "<IPython.core.display.Javascript object>"
            ],
            "application/javascript": [
              "window[\"73d1604c-349f-11ed-a612-0242ac1c0002\"] = google.colab.output.setActiveOutputArea(window[\"73d0be94-349f-11ed-a612-0242ac1c0002\"]);\n",
              "//# sourceURL=js_6e7cc62350"
            ]
          },
          "metadata": {}
        },
        {
          "output_type": "display_data",
          "data": {
            "text/plain": [
              "<Figure size 576x576 with 1 Axes>"
            ],
            "image/png": "[encoded data removed]"
          },
          "metadata": {
            "needs_background": "light"
          }
        },
        {
          "output_type": "display_data",
          "data": {
            "text/plain": [
              "<IPython.core.display.Javascript object>"
            ],
            "application/javascript": [
              "window[\"74016ab2-349f-11ed-a612-0242ac1c0002\"] = google.colab.output.setActiveOutputArea(window[\"73d0498c-349f-11ed-a612-0242ac1c0002\"]);\n",
              "//# sourceURL=js_ce34534717"
            ]
          },
          "metadata": {}
        }
      ],
      "source": [
        "env = GridEnvironment()\n",
        "agent = RandomAgent(env)\n",
        "\n",
        "obs = env.reset()\n",
        "done = False\n",
        "\n",
        "output_grid = widgets.Grid(1,1)\n",
        "with output_grid.output_to(0, 0):\n",
        "  env.render()\n",
        "\n",
        "while not done:\n",
        "  action = agent.step(obs)\n",
        "  obs, reward, done, info = env.step(action)\n",
        "  time.sleep(0.4)"
      ]
    },
    {
      "cell_type": "code",
      "execution_count": 232,
      "metadata": {
        "id": "KrH0XwjE29u0"
      },
      "outputs": [],
      "source": []
    }
  ],
  "metadata": {
    "colab": {
      "provenance": [],
      "collapsed_sections": [],
      "authorship_tag": "ABX9TyOz20SPOoX+6aq3R3etkIi/",
      "include_colab_link": true
    },
    "kernelspec": {
      "display_name": "Python 3",
      "name": "python3"
    },
    "language_info": {
      "name": "python"
    }
  },
  "nbformat": 4,
  "nbformat_minor": 0
}